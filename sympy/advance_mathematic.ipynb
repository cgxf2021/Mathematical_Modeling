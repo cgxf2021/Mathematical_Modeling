{
 "cells": [
  {
   "cell_type": "markdown",
   "source": [
    "## 高等数学问题符号解"
   ],
   "metadata": {}
  },
  {
   "cell_type": "markdown",
   "source": [
    "### 1. 求极限\r\n",
    "\r\n",
    "$ \\lim\\limits_{x \\to 0} \\frac{sinx}{x} = 1 , \\qquad \\lim\\limits_{x \\to +\\infty} \\left( 1 + \\frac{1}{x} \\right)^x = e $\r\n",
    "\r\n",
    "`sympy.limit(e, z, z0, dir='+')`"
   ],
   "metadata": {}
  },
  {
   "cell_type": "code",
   "execution_count": 1,
   "source": [
    "from sympy import symbols\r\n",
    "from sympy import limit, sin, oo\r\n",
    "\r\n",
    "x = symbols('x')\r\n",
    "print(limit(sin(x)/x, x, 0))\r\n",
    "print(limit((1 + 1/x)**x, x, oo))"
   ],
   "outputs": [
    {
     "output_type": "stream",
     "name": "stdout",
     "text": [
      "1\n",
      "E\n"
     ]
    }
   ],
   "metadata": {}
  },
  {
   "cell_type": "markdown",
   "source": [
    "### 2. 求导数\r\n",
    "\r\n",
    "$ z = sinx + x^2 e^y $，求 $ \\frac{\\partial^2 z}{\\partial x^2}, \\frac{\\partial z}{\\partial y} $\r\n",
    "\r\n",
    "`sympy.diff(f, *symbols, **kwargs)`"
   ],
   "metadata": {}
  },
  {
   "cell_type": "code",
   "execution_count": 2,
   "source": [
    "from sympy import symbols\r\n",
    "from sympy import diff, sin, exp\r\n",
    "\r\n",
    "x, y = symbols('x y')\r\n",
    "z = sin(x) + x**2 * exp(y)          # 构造符号表达式\r\n",
    "print(\"关于x的二阶偏导数: \", diff(z, x, 2))\r\n",
    "print(\"关于y的一阶偏导数: \", diff(z, y, 1))"
   ],
   "outputs": [
    {
     "output_type": "stream",
     "name": "stdout",
     "text": [
      "关于x的二阶偏导数:  2*exp(y) - sin(x)\n",
      "关于y的一阶偏导数:  x**2*exp(y)\n"
     ]
    }
   ],
   "metadata": {}
  },
  {
   "cell_type": "markdown",
   "source": [
    "### 3. 级数求和\r\n",
    "$ \\sum\\limits_{k = 1}^n k^2 = \\frac{n(n+1)(2n+1)}{6} $\r\n",
    "\r\n",
    "$ \\sum\\limits_{k = 1}^{\\infty} \\frac{1}{k^2} = \\frac{\\pi^2}{6} $\r\n",
    "\r\n",
    "`summation(f, (i, a, b))` $ = \\sum\\limits_{i = a}^{b} f $\r\n",
    "\r\n",
    "`factor(f, *gens, deep=False, **args)`  计算表达式的因式分解"
   ],
   "metadata": {}
  },
  {
   "cell_type": "code",
   "execution_count": 3,
   "source": [
    "from sympy import symbols\r\n",
    "from sympy import summation, oo, factor\r\n",
    "\r\n",
    "k, n = symbols('k n')\r\n",
    "print(summation(k**2, (k, 1, n)))\r\n",
    "print(factor(summation(k**2, (k, 1, n))))           # 结果因式分解\r\n",
    "print(summation(1/k**2, (k, 1, oo)))"
   ],
   "outputs": [
    {
     "output_type": "stream",
     "name": "stdout",
     "text": [
      "n**3/3 + n**2/2 + n/6\n",
      "n*(n + 1)*(2*n + 1)/6\n",
      "pi**2/6\n"
     ]
    }
   ],
   "metadata": {}
  },
  {
   "cell_type": "markdown",
   "source": [
    "### 4. Taylor展开\r\n",
    "\r\n",
    "`sin(x)`在0处3，5，7阶`Taylor`展开\r\n",
    "\r\n",
    "`series(expr, x=None, x0=0, n=6, dir='+')`"
   ],
   "metadata": {}
  },
  {
   "cell_type": "code",
   "execution_count": 4,
   "source": [
    "from sympy import symbols, sin, series\r\n",
    "\r\n",
    "x = symbols('x')\r\n",
    "y = sin(x)\r\n",
    "for i in range(3, 8, 2):\r\n",
    "    print(\"%d阶: \"%i, series(y, x, 0, i))"
   ],
   "outputs": [
    {
     "output_type": "stream",
     "name": "stdout",
     "text": [
      "3阶:  x + O(x**3)\n",
      "5阶:  x - x**3/6 + O(x**5)\n",
      "7阶:  x - x**3/6 + x**5/120 + O(x**7)\n"
     ]
    }
   ],
   "metadata": {}
  },
  {
   "cell_type": "code",
   "execution_count": 5,
   "source": [
    "from sympy.plotting import plot\r\n",
    "from sympy import symbols\r\n",
    "\r\n",
    "x = symbols('x')\r\n",
    "p1 = plot(x, (x, 0, 2), line_color = 'r', label = '3', show = False)\r\n",
    "p2 = plot(x - x**3 / 6, (x, 0, 2), line_color = 'b', label = '5', show = False)\r\n",
    "p3= plot(x - x**3 / 6 + x**5 / 120, (x, 0, 2), line_color = 'g', label = '7', show = False)\r\n",
    "p1.extend(p2)\r\n",
    "p1.extend(p3)\r\n",
    "p1.legend = True\r\n",
    "p1.show()"
   ],
   "outputs": [
    {
     "output_type": "display_data",
     "data": {
      "image/png": "[encoded data removed]",
      "text/plain": [
       "<Figure size 432x288 with 1 Axes>"
      ]
     },
     "metadata": {
      "needs_background": "light"
     }
    }
   ],
   "metadata": {}
  },
  {
   "cell_type": "markdown",
   "source": [
    "### 5. 求不定积分和定积分\r\n",
    "\r\n",
    "$ \\int_{0}^{\\pi} sin(2x)dx = 0, \\qquad \\int_{0}^{+\\infty} \\frac{sinx}{x}dx = \\frac{\\pi}{2} $\r\n",
    "\r\n",
    "$ \\int sec^3 x dx $\r\n",
    "\r\n",
    "`integrate(f, var, ...)`"
   ],
   "metadata": {}
  },
  {
   "cell_type": "code",
   "execution_count": 6,
   "source": [
    "from sympy import symbols\r\n",
    "from sympy import integrate, sin, sec, pi, oo\r\n",
    "\r\n",
    "x = symbols('x')\r\n",
    "print(integrate(sin(2*x), (x, 0, pi)))\r\n",
    "print(integrate(sin(x) / x, (x, 0, oo)))\r\n",
    "print(integrate(sec(x)**3, x))"
   ],
   "outputs": [
    {
     "output_type": "stream",
     "name": "stdout",
     "text": [
      "0\n",
      "pi/2\n",
      "-log(sin(x) - 1)/4 + log(sin(x) + 1)/4 - sin(x)/(2*sin(x)**2 - 2)\n"
     ]
    }
   ],
   "metadata": {}
  },
  {
   "cell_type": "markdown",
   "source": [
    "### 6. 求解代数方程组符号解\r\n",
    "\r\n",
    "$ x^3 = 1, \\qquad (x-2)^2(x-1)^3 = 0 $\r\n",
    "\r\n",
    "$ x^2 + x + 1 = 0 $\r\n",
    "\r\n",
    "`solve(f, *symbols, **flags)`\r\n",
    "\r\n",
    "`roots()`"
   ],
   "metadata": {}
  },
  {
   "cell_type": "code",
   "execution_count": 7,
   "source": [
    "from sympy import symbols\r\n",
    "from sympy import solve, roots\r\n",
    "\r\n",
    "x, y = symbols('x y')\r\n",
    "print(solve(x**3 - 1, x))\r\n",
    "print(solve((x - 2)**2 * (x - 1)**3, x))\r\n",
    "print(solve(x**2 + x + 1, x))\r\n",
    "#  roots可以得到重根信息\r\n",
    "print(roots((x - 2)**2 * (x - 1)**3, x))\r\n"
   ],
   "outputs": [
    {
     "output_type": "stream",
     "name": "stdout",
     "text": [
      "[1, -1/2 - sqrt(3)*I/2, -1/2 + sqrt(3)*I/2]\n",
      "[1, 2]\n",
      "[-1/2 - sqrt(3)*I/2, -1/2 + sqrt(3)*I/2]\n",
      "{2: 2, 1: 3}\n"
     ]
    }
   ],
   "metadata": {}
  },
  {
   "cell_type": "markdown",
   "source": [
    " 解代数方程组\r\n",
    "\r\n",
    "$$\r\n",
    "    \\begin{cases}\r\n",
    "        x^2 + y^2 = 1 \\\\\r\n",
    "        x - y = 1\r\n",
    "    \\end{cases}\r\n",
    "$$"
   ],
   "metadata": {}
  },
  {
   "cell_type": "code",
   "execution_count": 8,
   "source": [
    "from sympy import symbols\r\n",
    "from sympy import solve\r\n",
    "\r\n",
    "x, y = symbols('x y')\r\n",
    "s = solve([x**2 + y**2 - 1, x - y], [x, y], dict = True)\r\n",
    "print(s)"
   ],
   "outputs": [
    {
     "output_type": "stream",
     "name": "stdout",
     "text": [
      "[{x: -sqrt(2)/2, y: -sqrt(2)/2}, {x: sqrt(2)/2, y: sqrt(2)/2}]\n"
     ]
    }
   ],
   "metadata": {}
  },
  {
   "cell_type": "markdown",
   "source": [
    "### 7. 求驻点\r\n",
    "\r\n",
    "$ z = xy + x^2 e^y $"
   ],
   "metadata": {}
  },
  {
   "cell_type": "code",
   "execution_count": 9,
   "source": [
    "from sympy import symbols\r\n",
    "from sympy import diff, solve, exp\r\n",
    "\r\n",
    "x, y = symbols('x y')\r\n",
    "z = x*y + x**2 * exp(y)\r\n",
    "s = solve([diff(z, x, 1), diff(z, y, 1)], [x, y], dict = True)\r\n",
    "print(s)"
   ],
   "outputs": [
    {
     "output_type": "stream",
     "name": "stdout",
     "text": [
      "[{x: 0, y: 0}, {x: -exp(-2), y: 2}]\n"
     ]
    }
   ],
   "metadata": {}
  }
 ],
 "metadata": {
  "orig_nbformat": 4,
  "language_info": {
   "name": "python",
   "version": "3.8.5",
   "mimetype": "text/x-python",
   "codemirror_mode": {
    "name": "ipython",
    "version": 3
   },
   "pygments_lexer": "ipython3",
   "nbconvert_exporter": "python",
   "file_extension": ".py"
  },
  "kernelspec": {
   "name": "python3",
   "display_name": "Python 3.8.5 64-bit"
  },
  "interpreter": {
   "hash": "d737f944771af97b42a6c50930c4c94784e65484ba44d7a84dfda6716128a229"
  }
 },
 "nbformat": 4,
 "nbformat_minor": 2
}