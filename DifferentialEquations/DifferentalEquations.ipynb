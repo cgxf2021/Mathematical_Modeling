{
 "cells": [
  {
   "cell_type": "markdown",
   "source": [
    "## I. `python`求微分方程解析解"
   ],
   "metadata": {}
  },
  {
   "cell_type": "markdown",
   "source": [
    "求微分方程\r\n",
    "$$\r\n",
    "    \\begin{cases}\r\n",
    "        \\frac{d^2 y}{dx^2} + 2\\frac{dy}{dx} + 2y = 0 \\\\\r\n",
    "        y(0) = 0, \\quad y^{'} (0) = 1\r\n",
    "    \\end{cases} \r\n",
    "$$\r\n",
    "\r\n",
    "### sympy.dsolve用法\r\n",
    "\r\n",
    "dsolve(eq, simplify = True, ics = None)\r\n",
    "\r\n",
    "eq: 常微分方程\r\n",
    "\r\n",
    "simplify: 化简\r\n",
    "\r\n",
    "ics: 初值、边值(It should be given in the form of ``{f(x0): x1, f(x).diff(x).subs(x, x2):x3}``)"
   ],
   "metadata": {}
  },
  {
   "cell_type": "code",
   "execution_count": 1,
   "source": [
    "from sympy import symbols, Function\r\n",
    "from sympy import diff, dsolve\r\n",
    "\r\n",
    "# 定义自变量x\r\n",
    "x = symbols('x')\r\n",
    "# 定义函数y\r\n",
    "y = Function('y')\r\n",
    "# 定义方程\r\n",
    "eq = diff(y(x), x, 2) + 2 * diff(y(x), x, 1) + 2 * y(x)\r\n",
    "# 定义初始条件(字典)\r\n",
    "con = {y(0): 0, diff(y(x), x).subs(x, 0): 1}\r\n",
    "# 求解方程\r\n",
    "y = dsolve(eq, ics = con)\r\n",
    "# 打印方程\r\n",
    "print(y)"
   ],
   "outputs": [
    {
     "output_type": "stream",
     "name": "stdout",
     "text": [
      "Eq(y(x), exp(-x)*sin(x))\n"
     ]
    }
   ],
   "metadata": {}
  },
  {
   "cell_type": "markdown",
   "source": [
    "$$\r\n",
    "    \\begin{cases}\r\n",
    "        \\frac{d^2 y}{dx^2} + 2\\frac{dy}{dx} + 2y = sinx \\\\\r\n",
    "        y(0) = 0, \\quad y^{'} (0) = 1\r\n",
    "    \\end{cases} \r\n",
    "$$"
   ],
   "metadata": {}
  },
  {
   "cell_type": "code",
   "execution_count": 2,
   "source": [
    "from sympy import symbols, Function\r\n",
    "from sympy import diff, dsolve, sin\r\n",
    "\r\n",
    "x = symbols('x')\r\n",
    "y = Function('y')\r\n",
    "eq = diff(y(x), x, 2) + 2 * diff(y(x), x, 1) + 2 * y(x) - sin(x)\r\n",
    "con = {y(0): 0, diff(y(x), x).subs(x, 0): 1}\r\n",
    "y = dsolve(eq, ics = con)\r\n",
    "print(y)"
   ],
   "outputs": [
    {
     "output_type": "stream",
     "name": "stdout",
     "text": [
      "Eq(y(x), (6*sin(x)/5 + 2*cos(x)/5)*exp(-x) + sin(x)/5 - 2*cos(x)/5)\n"
     ]
    }
   ],
   "metadata": {}
  },
  {
   "cell_type": "markdown",
   "source": [
    "### 微分方程组\r\n",
    "\r\n",
    "$$\r\n",
    "    \\begin{cases}\r\n",
    "        \\frac{dx_1}{dt}=2x_1-3x_2+3x_3, \\quad x_1(0)=1 \\\\\r\n",
    "        \\frac{dx_2}{dt}=4x_1-5x_2+3x_3, \\quad x_2(0)=2 \\\\\r\n",
    "        \\frac{dx_3}{dt}=4x_1-4x_2+2x_3, \\quad x_3(0)=3\r\n",
    "    \\end{cases}\r\n",
    "$$"
   ],
   "metadata": {}
  },
  {
   "cell_type": "code",
   "execution_count": 3,
   "source": [
    "from sympy import symbols, Function\r\n",
    "from sympy import diff, dsolve, Matrix\r\n",
    "\r\n",
    "# 创建变量\r\n",
    "t = symbols('t')\r\n",
    "x1 = Function('x1')\r\n",
    "x2 = Function('x2')\r\n",
    "x3 = Function('x3')\r\n",
    "# 方程组\r\n",
    "x = Matrix([x1(t), x2(t), x3(t)])\r\n",
    "A = Matrix([[2, -3, 3], [4, -5, 3], [4, -4, 2]])\r\n",
    "eq = diff(x, t) - A * x\r\n",
    "# 初值\r\n",
    "con = {x1(0): 1, x2(0): 2, x3(0): 3}\r\n",
    "# 解方程组\r\n",
    "s = dsolve(eq, ics = con)\r\n",
    "# 打印解\r\n",
    "for i in range(3):\r\n",
    "    print(s[i])"
   ],
   "outputs": [
    {
     "output_type": "stream",
     "name": "stdout",
     "text": [
      "Eq(x1(t), 2*exp(2*t) - exp(-t))\n",
      "Eq(x2(t), 2*exp(2*t) - exp(-t) + exp(-2*t))\n",
      "Eq(x3(t), 2*exp(2*t) + exp(-2*t))\n"
     ]
    }
   ],
   "metadata": {}
  },
  {
   "cell_type": "markdown",
   "source": [
    "## II. `python`求微分方程数值解"
   ],
   "metadata": {}
  },
  {
   "cell_type": "markdown",
   "source": [
    "### 基于一阶方程(龙格-库塔方法)，使用`scipy.integrate`模块的`odeint`函数求解\r\n",
    "\r\n",
    "#### odeint函数的用法\r\n",
    "\r\n",
    "y = odeint(func, y0, t)\r\n",
    "\r\n",
    "func: dy/dt\r\n",
    "\r\n",
    "y0: y的初始条件(可以是向量)\r\n",
    "\r\n",
    "t: 求y的时间点序列，初始值点应该是序列的第一个元素\r\n",
    "\r\n",
    "y: 包含t中每个所需时间的y值  array, shape (len(t), len(y0))\r\n",
    "\r\n",
    "#### 求解方程\r\n",
    "\r\n",
    "$$\r\n",
    "    \\begin{cases}\r\n",
    "        \\frac{dy}{dx} = -2y + x^2 + 2x \\\\\r\n",
    "        y(1) = 2\r\n",
    "    \\end{cases}\r\n",
    "$$"
   ],
   "metadata": {}
  },
  {
   "cell_type": "code",
   "execution_count": 4,
   "source": [
    "# 解析解\r\n",
    "from sympy import symbols, Function\r\n",
    "from sympy import diff, dsolve\r\n",
    "\r\n",
    "x = symbols('x')\r\n",
    "y = Function('y')\r\n",
    "eq = diff(y(x), x, 1) + 2 * y(x) - x ** 2 - 2 * x\r\n",
    "y = dsolve(eq, ics = {y(1): 2})\r\n",
    "print(y)"
   ],
   "outputs": [
    {
     "output_type": "stream",
     "name": "stdout",
     "text": [
      "Eq(y(x), ((2*x**2 + 2*x - 1)*exp(2*x)/4 + 5*exp(2)/4)*exp(-2*x))\n"
     ]
    }
   ],
   "metadata": {}
  },
  {
   "cell_type": "code",
   "execution_count": 5,
   "source": [
    "from scipy.integrate import odeint\r\n",
    "import numpy as np\r\n",
    "import matplotlib.pyplot as plt\r\n",
    "\r\n",
    "# def function\r\n",
    "func = lambda y, x: -2 * y + x ** 2 + 2 * x\r\n",
    "fun = lambda x: ((2 * x ** 2 + 2 * x - 1) * np.exp(2 * x) / 4 + 5 * np.exp(2) / 4) * np.exp(-2 * x)\r\n",
    "# data x\r\n",
    "x = np.arange(1, 10.5, 0.5)\r\n",
    "# data y\r\n",
    "y = odeint(func, 2, x)\r\n",
    "# print\r\n",
    "print(x)\r\n",
    "print(y.T)\r\n",
    "# plot\r\n",
    "fig = plt.figure(dpi = 100)\r\n",
    "ax = fig.add_subplot(111)\r\n",
    "ax.scatter(x, y[:, 0], marker = '+', linewidth = 2, color = 'r', label = \"numerical solution\")\r\n",
    "ax.plot(x, fun(x), color = 'b', label = \"analytical solution\")\r\n",
    "ax.legend()\r\n",
    "plt.show()"
   ],
   "outputs": [
    {
     "output_type": "stream",
     "name": "stdout",
     "text": [
      "[ 1.   1.5  2.   2.5  3.   3.5  4.   4.5  5.   5.5  6.   6.5  7.   7.5\n",
      "  8.   8.5  9.   9.5 10. ]\n",
      "[[ 2.          2.08484933  2.9191691   4.18723381  5.77289452  7.63342241\n",
      "   9.75309843 12.12613985 14.75041934 17.62515427 20.75005673 24.12502089\n",
      "  27.7500077  31.62500278 35.75000104 40.1250004  44.75000015 49.62500006\n",
      "  54.75000002]]\n"
     ]
    },
    {
     "output_type": "display_data",
     "data": {
      "text/plain": [
       "<Figure size 600x400 with 1 Axes>"
      ],
      "image/png": "[encoded data removed]"
     },
     "metadata": {
      "needs_background": "light"
     }
    }
   ],
   "metadata": {}
  },
  {
   "cell_type": "markdown",
   "source": [
    "令$ y_1 = y, \\quad y_2 = y^{'} $，将二阶微分方程化为一阶微分方程组\r\n",
    "\r\n",
    "$$\r\n",
    "    \\begin{cases}\r\n",
    "        y_1^{'} = y_2 , & \\quad y_1(0) = 0 \\\\\r\n",
    "        y_2^{'} = -2y_1 - 2y_2, & \\quad y_2(0) = 1\r\n",
    "    \\end{cases}\r\n",
    "$$"
   ],
   "metadata": {}
  },
  {
   "cell_type": "code",
   "execution_count": 6,
   "source": [
    "import numpy as np\r\n",
    "import matplotlib.pyplot as plt\r\n",
    "from scipy.integrate import odeint\r\n",
    "\r\n",
    "# def funcation\r\n",
    "func = lambda y, x: np.array([y[1], -2 * y[0] - 2 * y[1]])\r\n",
    "fun = lambda x: np.exp(-x) * np.sin(x)\r\n",
    "# x data\r\n",
    "x = np.arange(0, 10, 0.1)\r\n",
    "# y data\r\n",
    "y0 = np.array([0.0, 1.0])\r\n",
    "y = odeint(func, y0, x)\r\n",
    "# plot\r\n",
    "fig = plt.figure(dpi = 100)\r\n",
    "ax = fig.add_subplot(111)\r\n",
    "ax.scatter(x, y[:, 0], marker = '+', linewidth = 2, color = 'r', label = \"numerical solution\")\r\n",
    "ax.plot(x, fun(x), color = 'b', label = \"analytical solution\")\r\n",
    "ax.legend()\r\n",
    "plt.show()\r\n"
   ],
   "outputs": [
    {
     "output_type": "display_data",
     "data": {
      "text/plain": [
       "<Figure size 600x400 with 1 Axes>"
      ],
      "image/png": "[encoded data removed]"
     },
     "metadata": {
      "needs_background": "light"
     }
    }
   ],
   "metadata": {}
  }
 ],
 "metadata": {
  "orig_nbformat": 4,
  "language_info": {
   "name": "python",
   "version": "3.8.5",
   "mimetype": "text/x-python",
   "codemirror_mode": {
    "name": "ipython",
    "version": 3
   },
   "pygments_lexer": "ipython3",
   "nbconvert_exporter": "python",
   "file_extension": ".py"
  },
  "kernelspec": {
   "name": "python3",
   "display_name": "Python 3.8.5 64-bit"
  },
  "interpreter": {
   "hash": "d737f944771af97b42a6c50930c4c94784e65484ba44d7a84dfda6716128a229"
  }
 },
 "nbformat": 4,
 "nbformat_minor": 2
}