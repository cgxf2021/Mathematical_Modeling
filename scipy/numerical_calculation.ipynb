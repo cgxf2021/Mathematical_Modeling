{
 "cells": [
  {
   "cell_type": "markdown",
   "source": [
    "### 一重积分数值解\r\n",
    "\r\n",
    "$ \\int_{0}^{1} sin (\\sqrt{cosx + x^2})dx $\r\n",
    "\r\n",
    "`quad(func, a, b)` $ = \\int_{a}^{b} f(x) dx $\r\n",
    "\r\n",
    "returns\r\n",
    "\r\n",
    "y: a,b上积分值\r\n",
    "\r\n",
    "abserr: 对结果中绝对误差的估计"
   ],
   "metadata": {}
  },
  {
   "cell_type": "code",
   "execution_count": 2,
   "source": [
    "from scipy.integrate import quad\r\n",
    "import numpy as np\r\n",
    "\r\n",
    "fun = lambda x: np.sin(np.sqrt(np.cos(x) + x**2))\r\n",
    "print(\"Scipy积分值: \", quad(fun, 0, 1))"
   ],
   "outputs": [
    {
     "output_type": "stream",
     "name": "stdout",
     "text": [
      "Scipy积分值:  (0.8803354170924643, 9.773686494490445e-15)\n"
     ]
    }
   ],
   "metadata": {}
  },
  {
   "cell_type": "markdown",
   "source": [
    "### 多重积分数值解\r\n",
    "\r\n",
    "#### 多重积分使用`scipy`库中的`dblquad`，`tplquad`求数值解\r\n",
    "\r\n",
    "`dblquad(func, a, b, gfun, hfun, args=(), epsabs=1.49e-08, epsrel=1.49e-08)`\r\n",
    "\r\n",
    "func: 一个至少有两个变量的Python函数或方法:y必须是第一个参数，x必须是第二个参数\r\n",
    "\r\n",
    "a, b: x的积分上下限\r\n",
    "\r\n",
    "gfun, hfun: y的积分上下限"
   ],
   "metadata": {}
  },
  {
   "cell_type": "markdown",
   "source": [
    "$ \\int_{0}^{2} dx \\int_{0}^{1} xy^2 dy $\r\n",
    "\r\n",
    "$ I = \\iint\\limits_{x^2 + y^2 \\leq 1} e^{-\\frac{x^2}{2}} sin(x^2 + y) dy $"
   ],
   "metadata": {}
  },
  {
   "cell_type": "code",
   "execution_count": 3,
   "source": [
    "import numpy as np\r\n",
    "from scipy.integrate import dblquad\r\n",
    "\r\n",
    "# 被积函数1\r\n",
    "fun1 = lambda y, x: x * y**2\r\n",
    "print(\"I1: \", dblquad(fun1, 0, 2, 0, 1))\r\n",
    "# 被积函数2\r\n",
    "fun2 = lambda y, x: np.exp(- x**2 / 2) * np.sin(x**2 + y)\r\n",
    "# 积分上下限\r\n",
    "c = lambda x: -np.sqrt(1 - x**2)\r\n",
    "d = lambda x: np.sqrt(1 - x**2)\r\n",
    "print(\"I2: \", dblquad(fun2, -1, 1, c, d))"
   ],
   "outputs": [
    {
     "output_type": "stream",
     "name": "stdout",
     "text": [
      "I1:  (0.6666666666666667, 7.401486830834377e-15)\n",
      "I2:  (0.5368603826989582, 3.696155159715886e-09)\n"
     ]
    }
   ],
   "metadata": {}
  },
  {
   "cell_type": "markdown",
   "source": [
    "### scipy求非线性方程数值解\r\n",
    "\r\n",
    "`fsolve(fun, x0)`\r\n",
    "\r\n",
    "fun: 待求根的方程\r\n",
    "x0: 起始点"
   ],
   "metadata": {}
  },
  {
   "cell_type": "code",
   "execution_count": 4,
   "source": [
    "import numpy as np\r\n",
    "from scipy.optimize import fsolve\r\n",
    "\r\n",
    "fun = lambda x: np.sin(x)\r\n",
    "print(\"求得的根为: \", fsolve(fun, 6))\r\n",
    "\r\n",
    "fun1 = lambda x: x**3 + np.cos(x) + 1\r\n",
    "print(\"求得的根为: \", fsolve(fun1, 3))"
   ],
   "outputs": [
    {
     "output_type": "stream",
     "name": "stdout",
     "text": [
      "求得的根为:  [6.28318531]\n",
      "求得的根为:  [-1.12656191]\n"
     ]
    }
   ],
   "metadata": {}
  },
  {
   "cell_type": "markdown",
   "source": [
    "#### 求非线性方程组数值解\r\n",
    "\r\n",
    "$$\r\n",
    "    \\begin{cases}\r\n",
    "        5 x_2 + 3 = 0 \\\\\r\n",
    "        4 x_1^2 - 2 sin(x_2 x_3) = 0 \\\\\r\n",
    "        x_2 x_3 - 1.5 = 0\r\n",
    "    \\end{cases}\r\n",
    "$$"
   ],
   "metadata": {}
  },
  {
   "cell_type": "code",
   "execution_count": 5,
   "source": [
    "import numpy as np\r\n",
    "from scipy.optimize import fsolve\r\n",
    "\r\n",
    "# 定义目标函数\r\n",
    "def Pfun(x):\r\n",
    "    x1, x2, x3 = x.tolist()         # x转换成list\r\n",
    "    return 5 * x2 + 3, 4 * x1**2 - 2 * np.sin(x2 * x3), x2 * x3 - 1.5\r\n",
    "# 解方程组\r\n",
    "print(\"result: \", fsolve(Pfun, [1.0, 1.0, 1.0]))"
   ],
   "outputs": [
    {
     "output_type": "stream",
     "name": "stdout",
     "text": [
      "result:  [-0.70622057 -0.6        -2.5       ]\n"
     ]
    }
   ],
   "metadata": {}
  },
  {
   "cell_type": "code",
   "execution_count": 4,
   "source": [
    "import numpy as np\r\n",
    "from scipy.optimize import minimize\r\n",
    "\r\n",
    "fun = lambda x: x + 1 / x\r\n",
    "ans = minimize(fun, 0.5)\r\n",
    "print(ans)"
   ],
   "outputs": [
    {
     "output_type": "stream",
     "name": "stdout",
     "text": [
      "      fun: 2.000000000001379\n",
      " hess_inv: array([[0.5050355]])\n",
      "      jac: array([-2.32458115e-06])\n",
      "  message: 'Optimization terminated successfully.'\n",
      "     nfev: 14\n",
      "      nit: 6\n",
      "     njev: 7\n",
      "   status: 0\n",
      "  success: True\n",
      "        x: array([0.99999883])\n"
     ]
    }
   ],
   "metadata": {}
  },
  {
   "cell_type": "code",
   "execution_count": 7,
   "source": [
    "import numpy as np\r\n",
    "from scipy.optimize import minimize\r\n",
    "\r\n",
    "def fun(x):\r\n",
    "    \"\"\"\r\n",
    "    目标函数值\r\n",
    "    x: 实值变量向量\r\n",
    "    returns: 目标函数值\r\n",
    "    \"\"\"\r\n",
    "    return - 5 * np.sin(x[0]) * np.sin(x[1]) * np.sin(x[2]) * np.sin(x[3]) * np.sin(x[4]) - np.sin(5 * x[0]) * np.sin(5 * x[1]) * np.sin(5 * x[2]) * np.sin(5 * x[3]) * np.sin(5 * x[4]) + 8\r\n",
    "\r\n",
    "x_0 = np.array([1, 1, 1, 1, 1, 1])\r\n",
    "ans = minimize(fun = fun, x0 = x_0)\r\n",
    "print(ans)"
   ],
   "outputs": [
    {
     "output_type": "stream",
     "name": "stdout",
     "text": [
      "      fun: 2.0000000000000933\n",
      " hess_inv: array([[ 5.18937579e-01, -4.83320041e-01, -1.59311386e-03,\n",
      "        -1.33151769e-03,  6.53937002e-04,  0.00000000e+00],\n",
      "       [-4.83320041e-01,  5.14404622e-01, -8.83228822e-05,\n",
      "         1.75323075e-04,  2.17635835e-03,  0.00000000e+00],\n",
      "       [-1.59311386e-03, -8.83228822e-05,  6.78898900e-01,\n",
      "        -3.21274778e-01, -3.22597987e-01,  0.00000000e+00],\n",
      "       [-1.33151769e-03,  1.75323075e-04, -3.21274778e-01,\n",
      "         6.78551308e-01, -3.22773704e-01,  0.00000000e+00],\n",
      "       [ 6.53937002e-04,  2.17635835e-03, -3.22597987e-01,\n",
      "        -3.22773704e-01,  6.75887583e-01,  0.00000000e+00],\n",
      "       [ 0.00000000e+00,  0.00000000e+00,  0.00000000e+00,\n",
      "         0.00000000e+00,  0.00000000e+00,  1.00000000e+00]])\n",
      "      jac: array([-1.13248825e-06,  7.74860382e-07, -1.49011612e-06,  9.53674316e-07,\n",
      "        2.38418579e-07,  0.00000000e+00])\n",
      "  message: 'Optimization terminated successfully.'\n",
      "     nfev: 70\n",
      "      nit: 7\n",
      "     njev: 10\n",
      "   status: 0\n",
      "  success: True\n",
      "        x: array([1.57079628, 1.57079634, 1.57079627, 1.57079635, 1.57079632,\n",
      "       1.        ])\n"
     ]
    }
   ],
   "metadata": {}
  }
 ],
 "metadata": {
  "orig_nbformat": 4,
  "language_info": {
   "name": "python",
   "version": "3.8.5",
   "mimetype": "text/x-python",
   "codemirror_mode": {
    "name": "ipython",
    "version": 3
   },
   "pygments_lexer": "ipython3",
   "nbconvert_exporter": "python",
   "file_extension": ".py"
  },
  "kernelspec": {
   "name": "python3",
   "display_name": "Python 3.8.5 64-bit"
  },
  "interpreter": {
   "hash": "d737f944771af97b42a6c50930c4c94784e65484ba44d7a84dfda6716128a229"
  }
 },
 "nbformat": 4,
 "nbformat_minor": 2
}