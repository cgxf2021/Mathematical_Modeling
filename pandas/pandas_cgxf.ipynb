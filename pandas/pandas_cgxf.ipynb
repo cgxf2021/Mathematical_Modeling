{
 "cells": [
  {
   "cell_type": "markdown",
   "metadata": {},
   "source": [
    "# pandas"
   ]
  },
  {
   "cell_type": "code",
   "execution_count": 1,
   "metadata": {},
   "outputs": [],
   "source": [
    "import pandas as pd\n",
    "import numpy as np"
   ]
  },
  {
   "cell_type": "markdown",
   "metadata": {},
   "source": [
    "主要有series，dataframe两个子类\n",
    "\n",
    "series是一维数据序列(即带标签的一维数组)\n",
    "\n",
    "dataframe是二维数据框(即带标签的二维数组)"
   ]
  },
  {
   "cell_type": "markdown",
   "metadata": {},
   "source": [
    "构造一个序列的方法\n",
    "\n",
    "1) 通过列表或元组构建\n",
    "\n",
    "2) 通过字典构建\n",
    "\n",
    "3) 通过numpy中的数组构建\n",
    "\n",
    "4) 通过数据框的某一列构建"
   ]
  },
  {
   "cell_type": "code",
   "execution_count": 2,
   "metadata": {},
   "outputs": [
    {
     "name": "stdout",
     "output_type": "stream",
     "text": [
      "0    0\n",
      "1    1\n",
      "2    2\n",
      "3    3\n",
      "4    4\n",
      "dtype: int32\n",
      "------------\n",
      "a    0\n",
      "b    1\n",
      "c    2\n",
      "d    3\n",
      "e    4\n",
      "dtype: int64\n",
      "------------\n",
      "a    0\n",
      "b    1\n",
      "c    2\n",
      "d    3\n",
      "e    4\n",
      "dtype: int64\n"
     ]
    }
   ],
   "source": [
    "#构建序列(series)\n",
    "# Series(data=None, index=None, dtype=None, name=None, copy=False, fastpath=False)\n",
    "\n",
    "a1 = pd.Series(np.array([0, 1, 2, 3, 4]))    #由数组构造序列\n",
    "a2 = pd.Series({'a': 0, 'b': 1, 'c': 2, 'd': 3, 'e': 4})    #由字典构造序列\n",
    "a3 = pd.Series(data=[0, 1, 2, 3, 4], index=['a', 'b', 'c', 'd', 'e'])    #设置索引标签\n",
    "\n",
    "print(a1)\n",
    "print('------------')\n",
    "print(a2)\n",
    "print('------------')\n",
    "print(a3)"
   ]
  },
  {
   "cell_type": "markdown",
   "metadata": {},
   "source": [
    "由上可知，序列第一列是行索引(index)，第二列是实际值"
   ]
  },
  {
   "cell_type": "code",
   "execution_count": 3,
   "metadata": {},
   "outputs": [
    {
     "name": "stdout",
     "output_type": "stream",
     "text": [
      "2    7\n",
      "5.6\n",
      "5.6\n"
     ]
    }
   ],
   "source": [
    "#序列索引和计算\n",
    "a = pd.Series(data=[2, 3, 5, 7, 11], index=['a', 'b', 'c', 'd', 'e'])\n",
    "print(a['a'], '  ', a['d'])\n",
    "#计算平均值\n",
    "print(np.mean(a))\n",
    "#使用pandas中mean方法求平均值\n",
    "print(a.mean())"
   ]
  },
  {
   "cell_type": "code",
   "execution_count": 4,
   "metadata": {},
   "outputs": [
    {
     "name": "stdout",
     "output_type": "stream",
     "text": [
      "12.8 3.5777087639996634\n"
     ]
    }
   ],
   "source": [
    "#此外有其他统计函数\n",
    "\"\"\"\n",
    "mean(): 样本数据算数平均值\n",
    "std(): 样本数据标准差\n",
    "cov(): 样本数据协方差矩阵\n",
    "var(): 样本数据方差\n",
    "describe(): 描述样本数据基本情况\n",
    "\"\"\"\n",
    "\n",
    "print(a.var(), a.std())"
   ]
  },
  {
   "cell_type": "markdown",
   "metadata": {},
   "source": [
    "构造数据框\n",
    "\n",
    "1) 二维数组\n",
    "  \n",
    "2) 字典"
   ]
  },
  {
   "cell_type": "code",
   "execution_count": 5,
   "metadata": {},
   "outputs": [
    {
     "name": "stdout",
     "output_type": "stream",
     "text": [
      "   0  1  2\n",
      "0  1  2  3\n",
      "1  4  5  6\n",
      "------------\n",
      "   A  B  C\n",
      "a  1  2  3\n",
      "b  4  5  6\n",
      "------------\n",
      "   x1  x2  x3\n",
      "0   1   2   3\n",
      "1   4   5   6\n"
     ]
    }
   ],
   "source": [
    "\"\"\"\n",
    "DataFrame(data=None, index: Union[Collection, NoneType] = None, columns: Union[Collection, NoneType] = None, dtype: Union[ForwardRef('ExtensionDtype'), str, numpy.dtype, Type[Union[str, float, int, complex, bool]], NoneType] = None, copy: bool = False)\n",
    "\"\"\"\n",
    "a = np.arange(1, 7).reshape(2, 3)\n",
    "df1 = pd.DataFrame(a)\n",
    "df2 = pd.DataFrame(data=a, index=['a', 'b'], columns=['A', 'B', 'C'])\n",
    "df3 = pd.DataFrame({'x1': a[:, 0], 'x2': a[:, 1], 'x3': a[:, 2]})\n",
    "\n",
    "print(df1)\n",
    "print('------------')\n",
    "print(df2)\n",
    "print('------------')\n",
    "print(df3)"
   ]
  },
  {
   "cell_type": "markdown",
   "metadata": {},
   "source": [
    "基于pandas的外部文件读取"
   ]
  },
  {
   "cell_type": "markdown",
   "metadata": {},
   "source": [
    "使用方法read_csv()读入外部文件\n",
    "\n",
    "使用help(pd.read_csv)查看该方法的参数，如下几个重要参数\n",
    "\n"
   ]
  },
  {
   "cell_type": "code",
   "execution_count": 6,
   "metadata": {},
   "outputs": [
    {
     "name": "stdout",
     "output_type": "stream",
     "text": [
      "    birthday gender name  income\n",
      "0 2019-03-07      男   张三    6000\n",
      "1 2019-08-17      女   王零   13100\n"
     ]
    }
   ],
   "source": [
    "\"\"\"\n",
    "filepath_or_buffer: 指定的文件或URL\n",
    "sep: 分隔符，默认使用\",\"分隔\n",
    "delimiter: 备选分隔符，指定该参数，sep失效\n",
    "header: 列标题. header=None: 则没有列标题，header=0: 第一行为列标题\n",
    "header=[1, 3, 5]: 2, 4, 6行为列标题，即多个列标题\n",
    "names: 原数据集中没有字段，可以给数据框添加表头\n",
    "index_col: 用作行索引的列名(多个行索引)\n",
    "skiprows: 指定跳过的原数据开头的行数\n",
    "skipfooter: 指定跳过原数据末尾的行数\n",
    "nrows: 指定读取数据的行数\n",
    "na_values: 原数据中哪些特征值作为缺失值\n",
    "skip_blank_lines: 是否跳过原数据中空白行\n",
    "parse_dates: 如果参数值为True，尝试解析解析数据框的行索引\n",
    "             如果参数为列表，尝试解析对应日期列\n",
    "             如果参数为字典，解析对应的列(值)，生成新的字段名(键)\n",
    "thousands: 原始数据中千分位符号\n",
    "comment: 指定注释符，默认为None\n",
    "encoding: 编码方式(下采用\"UTF-8\")\n",
    "\"\"\"\n",
    "\n",
    "inform = pd.read_csv(filepath_or_buffer='cgxf_pd.txt', sep=',', \n",
    "                    skiprows=2, skipfooter=1, parse_dates={'birthday': [0, 1, 2]},\n",
    "                    thousands='&', comment='#', encoding=\"UTF-8\")\n",
    "print(inform)"
   ]
  },
  {
   "cell_type": "code",
   "execution_count": 7,
   "metadata": {},
   "outputs": [],
   "source": [
    "#使用pd.DataFrame.to_csv()保存文件\n",
    "\"\"\"\n",
    "path_or_buf: 字符串，放文件名、相对路径、文件流等；\n",
    "sep: 字符串，分隔符，跟read_csv()的一个意思\n",
    "na_rep: 字符串，将NaN转换为特定值\n",
    "columns: 列表，指定哪些列写进去\n",
    "header: 默认header=0，如果没有表头，设置header=None，表示我没有表头呀！\n",
    "index: 关于索引的，默认True,写入索引\n",
    "\"\"\"\n",
    "inform.to_csv(path_or_buf='cgxf_pd1.txt', sep='&', index=False)"
   ]
  },
  {
   "cell_type": "markdown",
   "metadata": {},
   "source": [
    "### Excel文件存取"
   ]
  },
  {
   "cell_type": "code",
   "execution_count": 8,
   "metadata": {},
   "outputs": [
    {
     "name": "stdout",
     "output_type": "stream",
     "text": [
      "[[124. 254. 486.]\n",
      " [168. 125. 566.]\n",
      " [176. 215. 466.]\n",
      " [222. 332. 456.]\n",
      " [251. 265. 123.]\n",
      " [ nan 356. 215.]\n",
      " [165. 156. 845.]\n",
      " [144. 123. 456.]\n",
      " [155. 222. 635.]\n",
      " [146.  nan 465.]\n",
      " [ nan 232. 469.]]\n"
     ]
    },
    {
     "data": {
      "text/html": [
       "<div>\n",
       "<style scoped>\n",
       "    .dataframe tbody tr th:only-of-type {\n",
       "        vertical-align: middle;\n",
       "    }\n",
       "\n",
       "    .dataframe tbody tr th {\n",
       "        vertical-align: top;\n",
       "    }\n",
       "\n",
       "    .dataframe thead th {\n",
       "        text-align: right;\n",
       "    }\n",
       "</style>\n",
       "<table border=\"1\" class=\"dataframe\">\n",
       "  <thead>\n",
       "    <tr style=\"text-align: right;\">\n",
       "      <th></th>\n",
       "      <th>用户a</th>\n",
       "      <th>用户b</th>\n",
       "      <th>用户c</th>\n",
       "    </tr>\n",
       "  </thead>\n",
       "  <tbody>\n",
       "    <tr>\n",
       "      <th>count</th>\n",
       "      <td>9.000000</td>\n",
       "      <td>10.000000</td>\n",
       "      <td>11.000000</td>\n",
       "    </tr>\n",
       "    <tr>\n",
       "      <th>mean</th>\n",
       "      <td>172.333333</td>\n",
       "      <td>228.000000</td>\n",
       "      <td>471.090909</td>\n",
       "    </tr>\n",
       "    <tr>\n",
       "      <th>std</th>\n",
       "      <td>40.115458</td>\n",
       "      <td>79.080831</td>\n",
       "      <td>190.572010</td>\n",
       "    </tr>\n",
       "    <tr>\n",
       "      <th>min</th>\n",
       "      <td>124.000000</td>\n",
       "      <td>123.000000</td>\n",
       "      <td>123.000000</td>\n",
       "    </tr>\n",
       "    <tr>\n",
       "      <th>25%</th>\n",
       "      <td>146.000000</td>\n",
       "      <td>170.750000</td>\n",
       "      <td>456.000000</td>\n",
       "    </tr>\n",
       "    <tr>\n",
       "      <th>50%</th>\n",
       "      <td>165.000000</td>\n",
       "      <td>227.000000</td>\n",
       "      <td>466.000000</td>\n",
       "    </tr>\n",
       "    <tr>\n",
       "      <th>75%</th>\n",
       "      <td>176.000000</td>\n",
       "      <td>262.250000</td>\n",
       "      <td>526.000000</td>\n",
       "    </tr>\n",
       "    <tr>\n",
       "      <th>max</th>\n",
       "      <td>251.000000</td>\n",
       "      <td>356.000000</td>\n",
       "      <td>845.000000</td>\n",
       "    </tr>\n",
       "  </tbody>\n",
       "</table>\n",
       "</div>"
      ],
      "text/plain": [
       "              用户a         用户b         用户c\n",
       "count    9.000000   10.000000   11.000000\n",
       "mean   172.333333  228.000000  471.090909\n",
       "std     40.115458   79.080831  190.572010\n",
       "min    124.000000  123.000000  123.000000\n",
       "25%    146.000000  170.750000  456.000000\n",
       "50%    165.000000  227.000000  466.000000\n",
       "75%    176.000000  262.250000  526.000000\n",
       "max    251.000000  356.000000  845.000000"
      ]
     },
     "execution_count": 8,
     "metadata": {},
     "output_type": "execute_result"
    }
   ],
   "source": [
    "#使用函数pd.read_excel()\n",
    "\"\"\"\n",
    "read_excel(io, sheet_name=0, header=0, names=None, index_col=None, usecols=None, squeeze=False, dtype=None, engine=None, converters=None, true_values=None, false_values=None, skiprows=None, nrows=None, na_values=None, keep_default_na=True, na_filter=True, verbose=False, parse_dates=False, date_parser=None, thousands=None, comment=None, skipfooter=0, convert_float=True, mangle_dupe_cols=True)\n",
    "\"\"\"\n",
    "\"\"\"\n",
    "io: Excel文件名\n",
    "sheet_name: 表单名或表单序号\n",
    "            整数以零为索引表的位置；字符串/整数列表用于请求多个表；指定None以获取所有表\n",
    "\"\"\"\n",
    "\n",
    "df = pd.read_excel(io='cgxf_pd2.xlsx', usecols=range(1, 4), engine='openpyxl')    #读入1~3列\n",
    "print(df.values)    #提取数据\n",
    "df.describe()    #数据集基本信息\n",
    "\n",
    "#注: 这里需要安装xlrd和openpyxl两个模块，并且xlrd最新版已经无法读取.xlsx文件"
   ]
  },
  {
   "cell_type": "code",
   "execution_count": 9,
   "metadata": {},
   "outputs": [
    {
     "data": {
      "text/html": [
       "<div>\n",
       "<style scoped>\n",
       "    .dataframe tbody tr th:only-of-type {\n",
       "        vertical-align: middle;\n",
       "    }\n",
       "\n",
       "    .dataframe tbody tr th {\n",
       "        vertical-align: top;\n",
       "    }\n",
       "\n",
       "    .dataframe thead th {\n",
       "        text-align: right;\n",
       "    }\n",
       "</style>\n",
       "<table border=\"1\" class=\"dataframe\">\n",
       "  <thead>\n",
       "    <tr style=\"text-align: right;\">\n",
       "      <th></th>\n",
       "      <th>A</th>\n",
       "      <th>B</th>\n",
       "      <th>C</th>\n",
       "    </tr>\n",
       "  </thead>\n",
       "  <tbody>\n",
       "    <tr>\n",
       "      <th>1</th>\n",
       "      <td>124.0</td>\n",
       "      <td>254.0</td>\n",
       "      <td>486.0</td>\n",
       "    </tr>\n",
       "    <tr>\n",
       "      <th>2</th>\n",
       "      <td>168.0</td>\n",
       "      <td>125.0</td>\n",
       "      <td>566.0</td>\n",
       "    </tr>\n",
       "    <tr>\n",
       "      <th>3</th>\n",
       "      <td>176.0</td>\n",
       "      <td>215.0</td>\n",
       "      <td>466.0</td>\n",
       "    </tr>\n",
       "    <tr>\n",
       "      <th>4</th>\n",
       "      <td>222.0</td>\n",
       "      <td>332.0</td>\n",
       "      <td>456.0</td>\n",
       "    </tr>\n",
       "    <tr>\n",
       "      <th>5</th>\n",
       "      <td>251.0</td>\n",
       "      <td>265.0</td>\n",
       "      <td>123.0</td>\n",
       "    </tr>\n",
       "    <tr>\n",
       "      <th>6</th>\n",
       "      <td>NaN</td>\n",
       "      <td>356.0</td>\n",
       "      <td>215.0</td>\n",
       "    </tr>\n",
       "    <tr>\n",
       "      <th>7</th>\n",
       "      <td>165.0</td>\n",
       "      <td>156.0</td>\n",
       "      <td>845.0</td>\n",
       "    </tr>\n",
       "    <tr>\n",
       "      <th>8</th>\n",
       "      <td>144.0</td>\n",
       "      <td>123.0</td>\n",
       "      <td>456.0</td>\n",
       "    </tr>\n",
       "    <tr>\n",
       "      <th>9</th>\n",
       "      <td>155.0</td>\n",
       "      <td>222.0</td>\n",
       "      <td>635.0</td>\n",
       "    </tr>\n",
       "    <tr>\n",
       "      <th>10</th>\n",
       "      <td>146.0</td>\n",
       "      <td>NaN</td>\n",
       "      <td>465.0</td>\n",
       "    </tr>\n",
       "    <tr>\n",
       "      <th>11</th>\n",
       "      <td>NaN</td>\n",
       "      <td>232.0</td>\n",
       "      <td>469.0</td>\n",
       "    </tr>\n",
       "  </tbody>\n",
       "</table>\n",
       "</div>"
      ],
      "text/plain": [
       "        A      B      C\n",
       "1   124.0  254.0  486.0\n",
       "2   168.0  125.0  566.0\n",
       "3   176.0  215.0  466.0\n",
       "4   222.0  332.0  456.0\n",
       "5   251.0  265.0  123.0\n",
       "6     NaN  356.0  215.0\n",
       "7   165.0  156.0  845.0\n",
       "8   144.0  123.0  456.0\n",
       "9   155.0  222.0  635.0\n",
       "10  146.0    NaN  465.0\n",
       "11    NaN  232.0  469.0"
      ]
     },
     "execution_count": 9,
     "metadata": {},
     "output_type": "execute_result"
    }
   ],
   "source": [
    "#将数据读入\n",
    "inform = pd.read_excel(io='cgxf_pd2.xlsx', usecols=range(1, 4), engine='openpyxl')\n",
    "#提取数据\n",
    "inform_value = df.values\n",
    "df = pd.DataFrame(data=inform_value, index=np.arange(1, 12), columns=['A', 'B', 'C'])\n",
    "df"
   ]
  },
  {
   "cell_type": "code",
   "execution_count": 10,
   "metadata": {},
   "outputs": [],
   "source": [
    "#将数据写入文件\n",
    "fp = pd.ExcelWriter('cgxf_pdw.xlsx')\n",
    "df.to_excel(fp, 'sheet1')    #写入文件第一个表单\n",
    "df.describe().to_excel(fp, 'sheet2')    #写入文件第二个表单\n",
    "fp.save()    #保存文件"
   ]
  },
  {
   "cell_type": "markdown",
   "metadata": {},
   "source": [
    "### 数据子集的获取(loc, iloc)"
   ]
  },
  {
   "cell_type": "code",
   "execution_count": 11,
   "metadata": {},
   "outputs": [
    {
     "data": {
      "text/html": [
       "<div>\n",
       "<style scoped>\n",
       "    .dataframe tbody tr th:only-of-type {\n",
       "        vertical-align: middle;\n",
       "    }\n",
       "\n",
       "    .dataframe tbody tr th {\n",
       "        vertical-align: top;\n",
       "    }\n",
       "\n",
       "    .dataframe thead th {\n",
       "        text-align: right;\n",
       "    }\n",
       "</style>\n",
       "<table border=\"1\" class=\"dataframe\">\n",
       "  <thead>\n",
       "    <tr style=\"text-align: right;\">\n",
       "      <th></th>\n",
       "      <th>A</th>\n",
       "      <th>B</th>\n",
       "      <th>C</th>\n",
       "    </tr>\n",
       "  </thead>\n",
       "  <tbody>\n",
       "    <tr>\n",
       "      <th>1</th>\n",
       "      <td>124.0</td>\n",
       "      <td>254.0</td>\n",
       "      <td>486.0</td>\n",
       "    </tr>\n",
       "    <tr>\n",
       "      <th>2</th>\n",
       "      <td>168.0</td>\n",
       "      <td>125.0</td>\n",
       "      <td>566.0</td>\n",
       "    </tr>\n",
       "    <tr>\n",
       "      <th>3</th>\n",
       "      <td>176.0</td>\n",
       "      <td>215.0</td>\n",
       "      <td>466.0</td>\n",
       "    </tr>\n",
       "    <tr>\n",
       "      <th>4</th>\n",
       "      <td>222.0</td>\n",
       "      <td>332.0</td>\n",
       "      <td>456.0</td>\n",
       "    </tr>\n",
       "    <tr>\n",
       "      <th>5</th>\n",
       "      <td>251.0</td>\n",
       "      <td>265.0</td>\n",
       "      <td>123.0</td>\n",
       "    </tr>\n",
       "    <tr>\n",
       "      <th>6</th>\n",
       "      <td>NaN</td>\n",
       "      <td>356.0</td>\n",
       "      <td>215.0</td>\n",
       "    </tr>\n",
       "  </tbody>\n",
       "</table>\n",
       "</div>"
      ],
      "text/plain": [
       "       A      B      C\n",
       "1  124.0  254.0  486.0\n",
       "2  168.0  125.0  566.0\n",
       "3  176.0  215.0  466.0\n",
       "4  222.0  332.0  456.0\n",
       "5  251.0  265.0  123.0\n",
       "6    NaN  356.0  215.0"
      ]
     },
     "execution_count": 11,
     "metadata": {},
     "output_type": "execute_result"
    }
   ],
   "source": [
    "#iloc: 只能通过行号或者列号进行数据的删选\n",
    "#loc: 可以指定具体的行标签和列标签\n",
    "b1 = df.iloc[np.arange(6), [0, 1, 2]]\n",
    "b1"
   ]
  },
  {
   "cell_type": "code",
   "execution_count": 12,
   "metadata": {},
   "outputs": [
    {
     "data": {
      "text/html": [
       "<div>\n",
       "<style scoped>\n",
       "    .dataframe tbody tr th:only-of-type {\n",
       "        vertical-align: middle;\n",
       "    }\n",
       "\n",
       "    .dataframe tbody tr th {\n",
       "        vertical-align: top;\n",
       "    }\n",
       "\n",
       "    .dataframe thead th {\n",
       "        text-align: right;\n",
       "    }\n",
       "</style>\n",
       "<table border=\"1\" class=\"dataframe\">\n",
       "  <thead>\n",
       "    <tr style=\"text-align: right;\">\n",
       "      <th></th>\n",
       "      <th>A</th>\n",
       "      <th>B</th>\n",
       "      <th>C</th>\n",
       "    </tr>\n",
       "  </thead>\n",
       "  <tbody>\n",
       "    <tr>\n",
       "      <th>2</th>\n",
       "      <td>168.0</td>\n",
       "      <td>125.0</td>\n",
       "      <td>566.0</td>\n",
       "    </tr>\n",
       "    <tr>\n",
       "      <th>3</th>\n",
       "      <td>176.0</td>\n",
       "      <td>215.0</td>\n",
       "      <td>466.0</td>\n",
       "    </tr>\n",
       "    <tr>\n",
       "      <th>4</th>\n",
       "      <td>222.0</td>\n",
       "      <td>332.0</td>\n",
       "      <td>456.0</td>\n",
       "    </tr>\n",
       "    <tr>\n",
       "      <th>5</th>\n",
       "      <td>251.0</td>\n",
       "      <td>265.0</td>\n",
       "      <td>123.0</td>\n",
       "    </tr>\n",
       "    <tr>\n",
       "      <th>6</th>\n",
       "      <td>NaN</td>\n",
       "      <td>356.0</td>\n",
       "      <td>215.0</td>\n",
       "    </tr>\n",
       "    <tr>\n",
       "      <th>7</th>\n",
       "      <td>165.0</td>\n",
       "      <td>156.0</td>\n",
       "      <td>845.0</td>\n",
       "    </tr>\n",
       "    <tr>\n",
       "      <th>8</th>\n",
       "      <td>144.0</td>\n",
       "      <td>123.0</td>\n",
       "      <td>456.0</td>\n",
       "    </tr>\n",
       "  </tbody>\n",
       "</table>\n",
       "</div>"
      ],
      "text/plain": [
       "       A      B      C\n",
       "2  168.0  125.0  566.0\n",
       "3  176.0  215.0  466.0\n",
       "4  222.0  332.0  456.0\n",
       "5  251.0  265.0  123.0\n",
       "6    NaN  356.0  215.0\n",
       "7  165.0  156.0  845.0\n",
       "8  144.0  123.0  456.0"
      ]
     },
     "execution_count": 12,
     "metadata": {},
     "output_type": "execute_result"
    }
   ],
   "source": [
    "r = list(range(2, 9))\n",
    "l = ['A', 'B', 'C']\n",
    "b2 = df.loc[r, l]\n",
    "b2"
   ]
  },
  {
   "cell_type": "markdown",
   "metadata": {},
   "source": [
    "同二维数组索引相类似"
   ]
  }
 ],
 "metadata": {
  "kernelspec": {
   "display_name": "Python 3",
   "language": "python",
   "name": "python3"
  },
  "language_info": {
   "codemirror_mode": {
    "name": "ipython",
    "version": 3
   },
   "file_extension": ".py",
   "mimetype": "text/x-python",
   "name": "python",
   "nbconvert_exporter": "python",
   "pygments_lexer": "ipython3",
   "version": "3.8.5"
  },
  "orig_nbformat": 2,
  "vscode": {
   "interpreter": {
    "hash": "5a56db569459f25d094c96b56e9fd3ea992877badacc666f31f99d11cf46fd5a"
   }
  }
 },
 "nbformat": 4,
 "nbformat_minor": 2
}
