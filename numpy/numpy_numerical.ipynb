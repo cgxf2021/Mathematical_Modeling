{
 "cells": [
  {
   "cell_type": "markdown",
   "source": [
    "## `numpy`，`numpy.linalg`解决线性代数问题"
   ],
   "metadata": {}
  },
  {
   "cell_type": "markdown",
   "source": [
    "### 1. 向量和矩阵的运算\r\n",
    "\r\n",
    "$ \\alpha = [1, 2, 3]^T , \\beta = [4, 5, 6]^T $ ，求 $ |\\alpha|_2, \\quad \\alpha \\cdot \\beta, \\quad \\alpha \\times \\beta $"
   ],
   "metadata": {}
  },
  {
   "cell_type": "code",
   "execution_count": 1,
   "source": [
    "import numpy as np\r\n",
    "\r\n",
    "# 创建数组\r\n",
    "a = np.array([1, 2, 3])\r\n",
    "b = np.array([4, 5, 6])\r\n",
    "\r\n",
    "print(\"a的范数为: \", np.linalg.norm(a))\r\n",
    "print(\"a点乘b(a, b内积): \", np.dot(a, b))\r\n",
    "print(\"a点乘b(a, b内积): \", np.inner(a, b))\r\n",
    "print(\"a叉乘b(a, b外积): \", np.cross(a, b))"
   ],
   "outputs": [
    {
     "output_type": "stream",
     "name": "stdout",
     "text": [
      "a的范数为:  3.7416573867739413\n",
      "a点乘b(a, b内积):  32\n",
      "a点乘b(a, b内积):  32\n",
      "a叉乘b(a, b外积):  [-3  6 -3]\n"
     ]
    }
   ],
   "metadata": {}
  },
  {
   "cell_type": "markdown",
   "source": [
    "求 $ |A|, \\quad rank(A), \\quad A^T, \\quad (A + 10E)^{-1}, \\quad A^2, \\quad AB $"
   ],
   "metadata": {}
  },
  {
   "cell_type": "code",
   "execution_count": 2,
   "source": [
    "import numpy as np\r\n",
    "\r\n",
    "A = np.arange(1, 17).reshape(4, 4)      # 4阶矩阵\r\n",
    "B = np.eye(4)                           # 4阶单位阵\r\n",
    "\r\n",
    "print(\"|A|: \", np.linalg.det(A))\r\n",
    "print(\"rank(A): \", np.linalg.matrix_rank(A))\r\n",
    "print(\"A': \\n\", A.T, \"\\n\", A.transpose())\r\n",
    "print(\"A+10E的逆: \\n\", np.linalg.inv(A + 10 * B))\r\n",
    "print(\"A^2: \\n\", np.dot(A, A))\r\n",
    "print(\"AB: \\n\", np.dot(A, B))"
   ],
   "outputs": [
    {
     "output_type": "stream",
     "name": "stdout",
     "text": [
      "|A|:  0.0\n",
      "rank(A):  2\n",
      "A': \n",
      " [[ 1  5  9 13]\n",
      " [ 2  6 10 14]\n",
      " [ 3  7 11 15]\n",
      " [ 4  8 12 16]] \n",
      " [[ 1  5  9 13]\n",
      " [ 2  6 10 14]\n",
      " [ 3  7 11 15]\n",
      " [ 4  8 12 16]]\n",
      "A+10E的逆: \n",
      " [[ 0.11277778  0.00333333 -0.00611111 -0.01555556]\n",
      " [-0.005       0.09       -0.015      -0.02      ]\n",
      " [-0.02277778 -0.02333333  0.07611111 -0.02444444]\n",
      " [-0.04055556 -0.03666667 -0.03277778  0.07111111]]\n",
      "A^2: \n",
      " [[ 90 100 110 120]\n",
      " [202 228 254 280]\n",
      " [314 356 398 440]\n",
      " [426 484 542 600]]\n",
      "AB: \n",
      " [[ 1.  2.  3.  4.]\n",
      " [ 5.  6.  7.  8.]\n",
      " [ 9. 10. 11. 12.]\n",
      " [13. 14. 15. 16.]]\n"
     ]
    }
   ],
   "metadata": {}
  },
  {
   "cell_type": "code",
   "execution_count": 3,
   "source": [
    "import numpy as np\r\n",
    "A = np.arange(1, 17).reshape(4, 4)      # 4阶矩阵\r\n",
    "B = np.eye(4)                           # 4阶单位阵\r\n",
    "\r\n",
    "print(\"横连矩阵: \\n\", np.c_[A, B])\r\n",
    "print(\"纵连矩阵: \\n\", np.r_[A, B])"
   ],
   "outputs": [
    {
     "output_type": "stream",
     "name": "stdout",
     "text": [
      "横连矩阵: \n",
      " [[ 1.  2.  3.  4.  1.  0.  0.  0.]\n",
      " [ 5.  6.  7.  8.  0.  1.  0.  0.]\n",
      " [ 9. 10. 11. 12.  0.  0.  1.  0.]\n",
      " [13. 14. 15. 16.  0.  0.  0.  1.]]\n",
      "纵连矩阵: \n",
      " [[ 1.  2.  3.  4.]\n",
      " [ 5.  6.  7.  8.]\n",
      " [ 9. 10. 11. 12.]\n",
      " [13. 14. 15. 16.]\n",
      " [ 1.  0.  0.  0.]\n",
      " [ 0.  1.  0.  0.]\n",
      " [ 0.  0.  1.  0.]\n",
      " [ 0.  0.  0.  1.]]\n"
     ]
    }
   ],
   "metadata": {}
  }
 ],
 "metadata": {
  "orig_nbformat": 4,
  "language_info": {
   "name": "python",
   "version": "3.8.5",
   "mimetype": "text/x-python",
   "codemirror_mode": {
    "name": "ipython",
    "version": 3
   },
   "pygments_lexer": "ipython3",
   "nbconvert_exporter": "python",
   "file_extension": ".py"
  },
  "kernelspec": {
   "name": "python3",
   "display_name": "Python 3.8.5 64-bit"
  },
  "interpreter": {
   "hash": "d737f944771af97b42a6c50930c4c94784e65484ba44d7a84dfda6716128a229"
  }
 },
 "nbformat": 4,
 "nbformat_minor": 2
}