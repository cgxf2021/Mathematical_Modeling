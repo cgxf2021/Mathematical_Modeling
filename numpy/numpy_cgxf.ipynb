{
 "metadata": {
  "language_info": {
   "codemirror_mode": {
    "name": "ipython",
    "version": 3
   },
   "file_extension": ".py",
   "mimetype": "text/x-python",
   "name": "python",
   "nbconvert_exporter": "python",
   "pygments_lexer": "ipython3",
   "version": "3.8.5"
  },
  "orig_nbformat": 2,
  "kernelspec": {
   "name": "python3",
   "display_name": "Python 3.8.5 64-bit",
   "metadata": {
    "interpreter": {
     "hash": "fb9eeda5d660648719e696f535b73af1cf406ff2ecba26e0ed070d3e1cf325ad"
    }
   }
  }
 },
 "nbformat": 4,
 "nbformat_minor": 2,
 "cells": [
  {
   "source": [
    "# 数值计算工具NumPy"
   ],
   "cell_type": "markdown",
   "metadata": {}
  },
  {
   "cell_type": "code",
   "execution_count": 1,
   "metadata": {},
   "outputs": [],
   "source": [
    "import numpy as np"
   ]
  },
  {
   "source": [
    "使用help()函数查看函数用法"
   ],
   "cell_type": "markdown",
   "metadata": {}
  },
  {
   "cell_type": "code",
   "execution_count": 2,
   "metadata": {},
   "outputs": [
    {
     "output_type": "stream",
     "name": "stdout",
     "text": [
      "[1 2 3 4 5] \n [[1 2 3]\n [4 5 6]\n [7 8 9]]\n"
     ]
    }
   ],
   "source": [
    "#数组的创建\n",
    "a = np.array([1, 2, 3, 4, 5])\n",
    "b = np.array(((1, 2, 3), (4, 5, 6), (7, 8, 9)))\n",
    "\n",
    "print(a, '\\n', b)"
   ]
  },
  {
   "cell_type": "code",
   "execution_count": 3,
   "metadata": {},
   "outputs": [
    {
     "output_type": "stream",
     "name": "stdout",
     "text": [
      "[0 2 4 6 8]\n"
     ]
    }
   ],
   "source": [
    "#指定数组类型\n",
    "c = np.arange(0, 10, 2, dtype=int)\n",
    "print(c)"
   ]
  },
  {
   "cell_type": "code",
   "execution_count": 4,
   "metadata": {},
   "outputs": [
    {
     "output_type": "stream",
     "name": "stdout",
     "text": [
      "[[204013088       568         0]\n [        0    131074         0]] \n [ 1.    3.25  5.5   7.75 10.  ]\n"
     ]
    }
   ],
   "source": [
    "#使用empty, linspace创建数组\n",
    "d = np.empty((2, 3), dtype=int)    #创建2*3的整型空矩阵\n",
    "e = np.linspace(1, 10, 5)\n",
    "print(d, '\\n', e)"
   ]
  },
  {
   "cell_type": "code",
   "execution_count": 5,
   "metadata": {},
   "outputs": [
    {
     "output_type": "stream",
     "name": "stdout",
     "text": [
      "[[5 3 2 5]\n [3 4 5 5]\n [2 2 3 3]]\n"
     ]
    }
   ],
   "source": [
    "#整型随机数组\n",
    "f = np.random.randint(2, 6, (3, 4))    #在[2, 6)间，随机生成3*4的整型数组\n",
    "print(f)"
   ]
  },
  {
   "cell_type": "code",
   "execution_count": 6,
   "metadata": {},
   "outputs": [
    {
     "output_type": "stream",
     "name": "stdout",
     "text": [
      "维数： 2\n维度： (4, 4)\n元素总数： 16\n类型： int32\n\n [[ 6 14  4  9]\n [ 4  1  1 17]\n [ 9  9  7 19]\n [19  1  7 18]]\n"
     ]
    }
   ],
   "source": [
    "#数组的属性\n",
    "a = np.random.randint(0, 20, (4, 4))\n",
    "print(\"维数：\", a.ndim)\n",
    "print(\"维度：\", a.shape)\n",
    "print(\"元素总数：\", a.size)\n",
    "print(\"类型：\", a.dtype)\n",
    "print('\\n', a)"
   ]
  },
  {
   "cell_type": "code",
   "execution_count": 7,
   "metadata": {},
   "outputs": [
    {
     "output_type": "stream",
     "name": "stdout",
     "text": [
      "[47 58 11 21 46 30 17 47] \n [[32 82 89 67 70]\n [60 67 27 70 32]\n [42 79 78 34 74]\n [96 92 25 33 59]\n [16 26 83 76 19]] \n\n[11 46 17]\n[47 17 30]\n27 34\n[96 92 25 33 59]\n第4行元素 [96 92 25 33 59]\n第3列元素 [89 27 78 25 83]\n"
     ]
    }
   ],
   "source": [
    "#数组元素索引\n",
    "a = np.random.randint(10, 100, 8)\n",
    "b = np.random.randint(10, 100, (5, 5))\n",
    "print(a, '\\n', b, '\\n')\n",
    "#一维数组索引\n",
    "print(a[[2, 4, 6]])\n",
    "print(a[[-1, -2, -3]])\n",
    "#二维数组索引\n",
    "print(b[1, 2], b[2, 3])    #输出第2行第3列，第3行第4列元素\n",
    "print(b[3])    #输出第4行元素\n",
    "print(\"第4行元素\", b[3, :])\n",
    "print(\"第3列元素\", b[:, 2])"
   ]
  },
  {
   "cell_type": "code",
   "execution_count": 8,
   "metadata": {},
   "outputs": [
    {
     "output_type": "stream",
     "name": "stdout",
     "text": [
      "[1. 2. 3. 4.]\n[3. 4.]\n"
     ]
    }
   ],
   "source": [
    "#布尔索引\n",
    "a = np.array([[1, np.nan, 2], [3, np.nan, 4]])\n",
    "#取出非nan的数\n",
    "b = a[~np.isnan(a)]\n",
    "print(b)\n",
    "#b中大于2的数\n",
    "print(b[b>2])"
   ]
  },
  {
   "cell_type": "code",
   "execution_count": 9,
   "metadata": {},
   "outputs": [
    {
     "output_type": "stream",
     "name": "stdout",
     "text": [
      "[[18 78 49 42 15]\n [40 75 14 19 36]\n [86 87 91 49 41]\n [90 89 28 40 19]] \n\n\n[[18 78 49 42 15]\n [40 75 14 19 36]]\n[[18 78]\n [40 75]\n [86 87]\n [90 89]]\n[18 75]\n[14 19]\n[[18 78]\n [40 75]]\n"
     ]
    }
   ],
   "source": [
    "#花式索引\n",
    "x = np.random.randint(10, 100, (4, 5))\n",
    "print(x, '\\n\\n')\n",
    "#前两行元素\n",
    "print(x[[0, 1]])\n",
    "#前两列元素\n",
    "print(x[:, [0, 1]])\n",
    "#x[0][0], x[1][1]\n",
    "print(x[[0, 1], [0, 1]])\n",
    "#x[1][2], x[3][4]\n",
    "print(x[[1, 3], [2, 4]])\n",
    "#输出第1行，第2行，第1列，第2列组成的子矩阵\n",
    "print(x[0:2, 0:2])"
   ]
  },
  {
   "source": [
    "#数组的修改\n",
    "x = np.array([[1, 2, 3, 4], [5, 6, 7,8], [9, 10, 11, 12]])\n",
    "print(x, '\\n\\n')\n",
    "#修改x[1][1]为-1\n",
    "x[1, 1] = -1\n",
    "print(x, '\\n')\n",
    "#删除数组第3行(np.delete不对原数组进行修改)\n",
    "y = np.delete(x, 2, axis=0)\n",
    "print(y)\n",
    "#删除数组第3列\n",
    "z = np.delete(y, 2, axis=1)\n",
    "print(z)\n",
    "#增加一行(np.append不对原数组进行修改)\n",
    "t1 = np.append(x, [[2, 4, 6, 8]], axis=0)\n",
    "print(t1)\n",
    "#增加一列\n",
    "t2 = np.append(t1, [[1], [3], [5], [7]], axis=1)\n",
    "print(t2)"
   ],
   "cell_type": "code",
   "metadata": {},
   "execution_count": 10,
   "outputs": [
    {
     "output_type": "stream",
     "name": "stdout",
     "text": [
      "[[ 1  2  3  4]\n [ 5  6  7  8]\n [ 9 10 11 12]] \n\n\n[[ 1  2  3  4]\n [ 5 -1  7  8]\n [ 9 10 11 12]] \n\n[[ 1  2  3  4]\n [ 5 -1  7  8]]\n[[ 1  2  4]\n [ 5 -1  8]]\n[[ 1  2  3  4]\n [ 5 -1  7  8]\n [ 9 10 11 12]\n [ 2  4  6  8]]\n[[ 1  2  3  4  1]\n [ 5 -1  7  8  3]\n [ 9 10 11 12  5]\n [ 2  4  6  8  7]]\n"
     ]
    }
   ]
  },
  {
   "cell_type": "code",
   "execution_count": 11,
   "metadata": {},
   "outputs": [
    {
     "output_type": "stream",
     "name": "stdout",
     "text": [
      "[[0 1]\n [2 3]] \n [[0 1]\n [2 3]] \n\n[0 1 2 3] \n [[0 1]\n [2 3]] \n\nNone \n [0 1 2 3]\n"
     ]
    }
   ],
   "source": [
    "#使用reshape, resize对数组进行变形\n",
    "a = np.arange(4).reshape(2, 2)\n",
    "b = np.arange(4).reshape(2, 2)\n",
    "print(a, '\\n', b, '\\n')\n",
    "print(a.reshape(4,), '\\n', a, '\\n')\n",
    "print(a.resize(4,), '\\n', a)"
   ]
  },
  {
   "cell_type": "code",
   "execution_count": 12,
   "metadata": {},
   "outputs": [
    {
     "output_type": "stream",
     "name": "stdout",
     "text": [
      "[0 1 2 3 4 5 6 7 8] \n [[0 1 2]\n [3 4 5]\n [6 7 8]]\n[0 1 2 3 4 5 6 7 8] \n [[0 1 2]\n [3 4 5]\n [6 7 8]]\n[0 1 2 3 4 5 6 7 8] \n [[0 1 2]\n [3 4 5]\n [6 7 8]]\n"
     ]
    }
   ],
   "source": [
    "#数组降维函数flatten, ravel\n",
    "a = np.arange(9).reshape(3, 3)\n",
    "b = np.arange(9).reshape(3, 3)\n",
    "c = np.arange(9).reshape(3, 3)\n",
    "#二维数组降成一维数组\n",
    "print(a.reshape(-1), '\\n', a)\n",
    "print(b.flatten(), '\\n', b)\n",
    "print(c.ravel(), '\\n', c)"
   ]
  },
  {
   "cell_type": "code",
   "execution_count": 13,
   "metadata": {},
   "outputs": [
    {
     "output_type": "stream",
     "name": "stdout",
     "text": [
      "[[ 0  1  2]\n [ 3  4  5]\n [ 6  7  8]\n [10 11 12]\n [13 14 15]\n [16 17 18]] \n\n [[ 0  1  2]\n [ 3  4  5]\n [ 6  7  8]\n [10 11 12]\n [13 14 15]\n [16 17 18]] \n\n [[ 0  1  2 10 11 12]\n [ 3  4  5 13 14 15]\n [ 6  7  8 16 17 18]] \n\n [[ 0  1  2 10 11 12]\n [ 3  4  5 13 14 15]\n [ 6  7  8 16 17 18]]\n"
     ]
    }
   ],
   "source": [
    "#数组组合效果\n",
    "a = np.arange(9).reshape(3, 3)\n",
    "b = np.arange(10, 19).reshape(3, 3)\n",
    "#垂直方向组合\n",
    "c1 = np.vstack([a, b])\n",
    "c2 = np.r_[a, b]\n",
    "#水平方向组合\n",
    "d1 = np.hstack([a, b])\n",
    "d2 = np.c_[a, b]\n",
    "\n",
    "print(c1, '\\n\\n', c2, '\\n\\n', d1, '\\n\\n', d2)"
   ]
  },
  {
   "cell_type": "code",
   "execution_count": 14,
   "metadata": {},
   "outputs": [
    {
     "output_type": "stream",
     "name": "stdout",
     "text": [
      "[[49 45]\n [38 71]\n [64 64]\n [67 86]] \n [[48 67]\n [42 95]\n [24 38]\n [46 47]] \n\n [[49 45 48 67]\n [38 71 42 95]\n [64 64 24 38]\n [67 86 46 47]] \n\n [[0 1]] \n [[2 3]] \n\n [[0 1]\n [2 3]]\n"
     ]
    }
   ],
   "source": [
    "#数组分割\n",
    "a = np.random.randint(10, 100, 16).reshape(4, 4)\n",
    "b = np.arange(4).reshape(2, 2)\n",
    "#把a平均分成两个列数组\n",
    "a1 = np.hsplit(a, 2)\n",
    "#把b平均分成两个行数组\n",
    "b1 = np.vsplit(b, 2)\n",
    "\n",
    "print(a1[0], '\\n', a1[1], '\\n\\n', a, '\\n\\n', b1[0], '\\n', b1[1], '\\n\\n', b)"
   ]
  },
  {
   "cell_type": "code",
   "execution_count": 15,
   "metadata": {},
   "outputs": [
    {
     "output_type": "stream",
     "name": "stdout",
     "text": [
      "math.sin: 0.01994490623474121\nnp.sin: 0.004025459289550781\n"
     ]
    }
   ],
   "source": [
    "#numpy与math库的比较\n",
    "import math, time\n",
    "import numpy as np \n",
    "\n",
    "x = list(i * 0.01 for i in range(100000))\n",
    "\n",
    "start = time.time()\n",
    "y = list()\n",
    "for i in x:\n",
    "    y.append(math.sin(i))\n",
    "end = time.time()\n",
    "print('math.sin:', end-start)\n",
    "\n",
    "start = time.time()\n",
    "x1 = np.array(x)\n",
    "y1 = np.sin(x1)\n",
    "end = time.time()\n",
    "print('np.sin:', end-start)"
   ]
  }
 ]
}