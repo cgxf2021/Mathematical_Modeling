{
 "metadata": {
  "language_info": {
   "codemirror_mode": {
    "name": "ipython",
    "version": 3
   },
   "file_extension": ".py",
   "mimetype": "text/x-python",
   "name": "python",
   "nbconvert_exporter": "python",
   "pygments_lexer": "ipython3",
   "version": "3.8.5"
  },
  "orig_nbformat": 2,
  "kernelspec": {
   "name": "python3",
   "display_name": "Python 3.8.5 64-bit",
   "metadata": {
    "interpreter": {
     "hash": "fb9eeda5d660648719e696f535b73af1cf406ff2ecba26e0ed070d3e1cf325ad"
    }
   }
  }
 },
 "nbformat": 4,
 "nbformat_minor": 2,
 "cells": [
  {
   "cell_type": "markdown",
   "source": [
    "# 文本、文件操作"
   ],
   "metadata": {}
  },
  {
   "cell_type": "code",
   "execution_count": 1,
   "source": [
    "import numpy as np"
   ],
   "outputs": [],
   "metadata": {}
  },
  {
   "cell_type": "code",
   "execution_count": 2,
   "source": [
    "#文本文件存取(savetxt(), loadtxt())\r\n",
    "\r\n",
    "a = np.random.randint(1, 100, (4, 4))    #创建4*4整型数组\r\n",
    "#将数组a存入txt文档\r\n",
    "np.savetxt(fname='cgxf_a.txt', X=a, fmt='%d', delimiter=' & ', newline='\\\\\\\\\\n\\\\hline\\n')\r\n",
    "#注：fmt  保存的数据类型    delimiter  分隔符    newline  分隔行\r\n",
    "\r\n",
    "np.savetxt(fname='cgxf_a1.txt', X=a, fmt='%d')\r\n",
    "b = np.loadtxt(fname='cgxf_a1.txt', dtype=int)\r\n",
    "print(b)"
   ],
   "outputs": [
    {
     "output_type": "stream",
     "name": "stdout",
     "text": [
      "[[69  4 72 35]\n",
      " [48 87 58 22]\n",
      " [58 33 87 13]\n",
      " [39 26 64  3]]\n"
     ]
    }
   ],
   "metadata": {}
  },
  {
   "cell_type": "code",
   "execution_count": 3,
   "source": [
    "a = np.arange(25).reshape(5, 5)\r\n",
    "np.savetxt(fname='cgxf_a2.txt', X=a, fmt='%d', delimiter=' ', newline='\\n')\r\n",
    "# np.savetxt('cgxf_a2.txt', a, '%d')\r\n",
    "#打开cgxf_a2.txt，并构建数组\r\n",
    "b = np.loadtxt(fname='cgxf_a2.txt')\r\n",
    "c = b[0:2, 1:4].astype(int)    #astype()  转换类型为int\r\n",
    "print(b, '\\n\\n', c)"
   ],
   "outputs": [
    {
     "output_type": "stream",
     "name": "stdout",
     "text": [
      "[[ 0.  1.  2.  3.  4.]\n",
      " [ 5.  6.  7.  8.  9.]\n",
      " [10. 11. 12. 13. 14.]\n",
      " [15. 16. 17. 18. 19.]\n",
      " [20. 21. 22. 23. 24.]] \n",
      "\n",
      " [[1 2 3]\n",
      " [6 7 8]]\n"
     ]
    }
   ],
   "metadata": {}
  },
  {
   "cell_type": "code",
   "execution_count": 4,
   "source": [
    "#genfromtxt()读入文本文件\r\n",
    "#几个重要参数\r\n",
    "\"\"\"\r\n",
    "fname: 指定数据文件名\r\n",
    "dtype: 读入数据的数据类型，默认浮点型\r\n",
    "comments: 指定注释符，默认#，遇到#，不读入\r\n",
    "delimiter: 指定数据集的列分隔符\r\n",
    "skip_header: 是否跳过数据集的首行，默认不跳过\r\n",
    "skip_footer: 是否跳过数据集的脚注，默认不跳过\r\n",
    "missing_value: 指定缺失标记，如果数据集包含该标记，则默认为缺失值\r\n",
    "filling_value: 指定缺失值的填充\r\n",
    "usecols: 指定需要读入的列\r\n",
    "names: 为读入数据的列设置列名\r\n",
    "endoding: 如果文件中含有中文，有时需要指定字符编码\r\n",
    "\"\"\"\r\n",
    "\r\n",
    "#读取前5行前5列数据\r\n",
    "a = np.genfromtxt('cgxf_gft.txt', max_rows=5, usecols=range(5))\r\n",
    "print(a, '\\n')\r\n",
    "#读取第6列数据\r\n",
    "b = np.genfromtxt('cgxf_gft.txt', dtype=str, max_rows=5, usecols=[5])\r\n",
    "print(b, '\\n')\r\n",
    "##删除kg，并转换成浮点类型\r\n",
    "b1 = list()\r\n",
    "for v in b:\r\n",
    "    b1.append(float(v.rstrip('kg')))\r\n",
    "b1 = np.array(b1)\r\n",
    "print(b1, '\\n')\r\n",
    "#读入最后一行数据\r\n",
    "c = np.genfromtxt(fname='cgxf_gft.txt', dtype=float, skip_footer=5, usecols=range(5))\r\n",
    "print(c)"
   ],
   "outputs": [
    {
     "output_type": "stream",
     "name": "stdout",
     "text": [
      "[[ 0.  1.  2.  3.  4.]\n",
      " [ 5.  6.  7.  8.  9.]\n",
      " [10. 11. 12. 13. 14.]\n",
      " [15. 16. 17. 18. 19.]\n",
      " [20. 21. 22. 23. 24.]] \n",
      "\n",
      "['60kg' '55kg' '51kg' '43kg' '41kg'] \n",
      "\n",
      "[60. 55. 51. 43. 41.] \n",
      "\n",
      "[0. 1. 2. 3. 4.]\n"
     ]
    }
   ],
   "metadata": {}
  },
  {
   "cell_type": "code",
   "execution_count": 4,
   "source": [
    "#tofile, fromfile存取二进制格式文件\n",
    "a = np.arange(8).reshape(2, 4)\n",
    "#将数组a以二进制形式存入文件\n",
    "a.tofile('cgxf_a001.bin')\n",
    "#读取二进制文件\n",
    "b = np.fromfile(file='cgxf_a001.bin', dtype=int).reshape(2, 4)\n",
    "print(b)"
   ],
   "outputs": [
    {
     "output_type": "stream",
     "name": "stdout",
     "text": [
      "[[0 1 2 3]\n",
      " [4 5 6 7]]\n"
     ]
    }
   ],
   "metadata": {}
  },
  {
   "cell_type": "code",
   "execution_count": 5,
   "source": [
    "#Numpy专用的二进制文件存取函数\n",
    "#load(), save(), savez()\n",
    "a = np.random.randint(0, 100, 20).reshape(4, 5)\n",
    "#存入文件\n",
    "np.save('cgxf_a010.npy', a)\n",
    "#打开文件\n",
    "b = np.load('cgxf_a010.npy')\n",
    "print(b)\n",
    "c = np.sin(b)\n",
    "np.savez('cgxf_a011.npz', b, c)\n",
    "d = np.load('cgxf_a011.npz')\n",
    "#用解压工具打开npz，会有两个文件(arr_0.npy, arr_1.npy)，即返回一个类似字典的对象\n",
    "print(d['arr_0'])\n",
    "print(d['arr_1'])"
   ],
   "outputs": [
    {
     "output_type": "stream",
     "name": "stdout",
     "text": [
      "[[34 30 61  6  2]\n",
      " [53 68 30 60 94]\n",
      " [78 79 59 21 46]\n",
      " [ 6 37 24 25 35]]\n",
      "[[34 30 61  6  2]\n",
      " [53 68 30 60 94]\n",
      " [78 79 59 21 46]\n",
      " [ 6 37 24 25 35]]\n",
      "[[ 0.52908269 -0.98803162 -0.96611777 -0.2794155   0.90929743]\n",
      " [ 0.39592515 -0.89792768 -0.98803162 -0.30481062 -0.24525199]\n",
      " [ 0.51397846 -0.44411267  0.63673801  0.83665564  0.90178835]\n",
      " [-0.2794155  -0.64353813 -0.90557836 -0.13235175 -0.42818267]]\n"
     ]
    }
   ],
   "metadata": {}
  },
  {
   "cell_type": "markdown",
   "source": [
    "## 文件基本操作"
   ],
   "metadata": {}
  },
  {
   "cell_type": "code",
   "execution_count": 6,
   "source": [
    "#打开关闭文件\n",
    "f = open('cgxf_a.txt', 'r')\n",
    "print(f.name)\n",
    "print(f.closed)\n",
    "print(f.mode)\n",
    "f.close"
   ],
   "outputs": [
    {
     "output_type": "stream",
     "name": "stdout",
     "text": [
      "cgxf_a.txt\n",
      "False\n",
      "r\n"
     ]
    },
    {
     "output_type": "execute_result",
     "data": {
      "text/plain": [
       "<function TextIOWrapper.close()>"
      ]
     },
     "metadata": {},
     "execution_count": 6
    }
   ],
   "metadata": {}
  },
  {
   "cell_type": "code",
   "execution_count": 7,
   "source": [
    "f = open(file='cgxf_a.txt', mode='r')\n",
    "s = f.read()\n",
    "print(s)\n",
    "# 统计文件中数字个数\n",
    "n = 0\n",
    "for i in s:\n",
    "    if i in '1234567890':\n",
    "        n += 1\n",
    "print(n)"
   ],
   "outputs": [
    {
     "output_type": "stream",
     "name": "stdout",
     "text": [
      "69 & 4 & 72 & 35\\\\\n",
      "\\hline\n",
      "48 & 87 & 58 & 22\\\\\n",
      "\\hline\n",
      "58 & 33 & 87 & 13\\\\\n",
      "\\hline\n",
      "39 & 26 & 64 & 3\\\\\n",
      "\\hline\n",
      "\n",
      "30\n"
     ]
    }
   ],
   "metadata": {}
  },
  {
   "cell_type": "code",
   "execution_count": 5,
   "source": [
    "#向文本文件写入数据\n",
    "fp = open(file='cgxf_w1.txt', mode='w')\n",
    "str1 = ['hello', ' ', 'mathematic']\n",
    "str2 = ['hello', 'mathematic']\n",
    "fp.writelines(str1)\n",
    "fp.write('\\n')\n",
    "fp.writelines(str2)\n",
    "fp.close    #关闭文件\n",
    "#读出数据\n",
    "fp1 = open(file='cgxf_w1.txt', mode='r')\n",
    "print(fp1.read())"
   ],
   "outputs": [
    {
     "output_type": "stream",
     "name": "stdout",
     "text": [
      "hello mathematic\n",
      "hellomathematic\n"
     ]
    }
   ],
   "metadata": {}
  },
  {
   "cell_type": "code",
   "execution_count": 7,
   "source": [
    "#向cgxf_w1.txt文件追加\n",
    "str3 = 'python is good'\n",
    "fp = open(file='cgxf_w1.txt', mode='a')\n",
    "fp.write('\\n')\n",
    "fp.writelines(str3)\n",
    "fp.close\n",
    "\n",
    "fp1 = open('cgxf_w1.txt', 'r')\n",
    "print(fp1.read())"
   ],
   "outputs": [
    {
     "output_type": "stream",
     "name": "stdout",
     "text": [
      "hello mathematic\n",
      "hellomathematic\n",
      "python is good\n"
     ]
    }
   ],
   "metadata": {}
  },
  {
   "cell_type": "code",
   "execution_count": null,
   "source": [],
   "outputs": [],
   "metadata": {}
  }
 ]
}